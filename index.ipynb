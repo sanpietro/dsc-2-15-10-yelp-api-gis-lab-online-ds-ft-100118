{
 "cells": [
  {
   "cell_type": "markdown",
   "metadata": {},
   "source": [
    "# Building a Simple GIS with Yelp API and Folium - Lab\n",
    "\n",
    "## Introduction \n",
    "\n",
    "So we have learned quite a bit about APIs and how they are now big buzzword in the tech industry. Think of it as a protocol for how to make requests and communicate with another server. We have seen how to mine Twitter for getting text data and apply basic frequency based NLP techniques to get some insight. \n",
    "\n",
    "One of the key aspects of being a data scientist is the ability to learn how a new API works, how to go through its specific authentication process (OAuth) and how to process the data structures that get returned as a response to our requests. It is a good practice to spend some time learning the API through the official documentation before sending in requests. \n",
    "\n",
    "On these lines, this lab requires you to learn another popular API (YELP Fusion) by following the provided detailed online documentation. We shall build a simple Geographical Information System (GIS) using the data from yelp."
   ]
  },
  {
   "cell_type": "markdown",
   "metadata": {},
   "source": [
    "## Objectives\n",
    "You will be able to: \n",
    "* Successfully sign up for Yelp API \n",
    "* Create HTTP requests to get data from Yelp API\n",
    "* Parse HTTP responses and perform data analysis on the data returned\n",
    "* Create a simple geographical system on to view information about selected businesses, at a given location. \n"
   ]
  },
  {
   "cell_type": "markdown",
   "metadata": {},
   "source": [
    "## The Yelp Fusion API - v3\n",
    "\n",
    "\n",
    "### Point your browser over to this [yelp page](https://www.yelp.com/developers/v3/manage_app) and create an app in order to obtain  `client_id` and `api_key` tokens. \n",
    "\n",
    "**NOTE:** You will be required to sign up using Google or Facebook etc. if you dont already have an account.\n",
    "\n",
    "<img src=\"yelp_app.png\" width=500>\n",
    "\n"
   ]
  },
  {
   "cell_type": "markdown",
   "metadata": {},
   "source": [
    "After registration, you'll be presented with your account information and limits of your access. For Yelp, or any other API for that reason, you need to make sure that you dont surpass your request quota, otherwise, you may end up getting banned in some cases. Yelp shows this information to you as below:\n",
    "\n",
    "<img src=\"quota.png\" width=500>"
   ]
  },
  {
   "cell_type": "markdown",
   "metadata": {},
   "source": [
    "### Save your api_key and client_id in the variables below:"
   ]
  },
  {
   "cell_type": "code",
   "execution_count": null,
   "metadata": {},
   "outputs": [],
   "source": [
    "# Save your tokens in the following string variables\n",
    "client_id = ''\n",
    "api_key = ''"
   ]
  },
  {
   "cell_type": "markdown",
   "metadata": {},
   "source": [
    "## The `yelpapi` "
   ]
  },
  {
   "cell_type": "markdown",
   "metadata": {},
   "source": [
    "The yelpapi is a pure Python implementation of the Yelp Fusion API (aka Yelp v3 API). It is simple, fast, and robust to any changes Yelp may make to the API in the future. See tha basic usage of this library on the [official Github repo](https://github.com/gfairchild/yelpapi). You may look out for other APIs to achieve this but for this lesson, we shall use it for sake of simplicity. \n",
    "\n",
    "First you must pip install the library"
   ]
  },
  {
   "cell_type": "code",
   "execution_count": null,
   "metadata": {},
   "outputs": [],
   "source": [
    "# !pip install yelpapi"
   ]
  },
  {
   "cell_type": "markdown",
   "metadata": {},
   "source": [
    "### Import `yelpapi ` into working environment and pass in the api_key as shown in the Github Repo "
   ]
  },
  {
   "cell_type": "code",
   "execution_count": null,
   "metadata": {},
   "outputs": [],
   "source": [
    "# Code here"
   ]
  },
  {
   "cell_type": "markdown",
   "metadata": {},
   "source": [
    "### The Api request and response\n",
    "\n",
    "Great so we can now start making API calls using the format:\n",
    "```python\n",
    "response = yelp_api.search_query(term =<search term>, \n",
    "                                 location=<search location>, \n",
    "                                 sort_by='rating', \n",
    "                                 limit=50)\n",
    "```\n",
    "We can pass in a lot more arguments to refine our search. [Here is a complete list of options that search API provides us](https://www.yelp.com/developers/documentation/v3/business_search)\n",
    "\n",
    "* Make an API request using a simple criteria location and term\n",
    "* save the response as `response` \n",
    "* inspect the type and contents of `response`."
   ]
  },
  {
   "cell_type": "code",
   "execution_count": null,
   "metadata": {},
   "outputs": [],
   "source": [
    "## Pass in a spcific term and location to make a call. \n",
    "\n",
    "# For this example, we are looking for chinese food in London.\n",
    "\n",
    "term = 'Chinese food'\n",
    "location = 'London'"
   ]
  },
  {
   "cell_type": "code",
   "execution_count": null,
   "metadata": {},
   "outputs": [],
   "source": [
    "# Make an API call using chosen term and location\n",
    "\n",
    "response = None\n",
    "type(response)\n",
    "print(response)\n"
   ]
  },
  {
   "cell_type": "markdown",
   "metadata": {},
   "source": [
    "### JSON .. again ! \n",
    "\n",
    "We have a nice nifty little return now! As you can see, the contents of the response is formatted as a string but what kind of data structures does this remind you of?  \n",
    "\n",
    "To start there's the outer curly brackets:  \n",
    "\n",
    "#### {\"businesses\":   \n",
    "\n",
    "Hopefully you're thinking 'hey that's just like a python dictionary!'\n",
    "\n",
    "Then within that we have what appears to be a list of dictionaries:  \n",
    "\n",
    "#### {\"id\": \"jeWIYbgBho9vBDhc5S1xvg\",\n",
    "\n",
    "This response is an example of a JSON (JavaScript Object Notation) format that we've seen so many times before. We can simply treat it as a dictionary and process it further. "
   ]
  },
  {
   "cell_type": "markdown",
   "metadata": {},
   "source": [
    "### Inspect the values for all the keys in the response"
   ]
  },
  {
   "cell_type": "code",
   "execution_count": null,
   "metadata": {},
   "outputs": [],
   "source": [
    "# inspect the key value pairs to understand the strcuture of data \n",
    "\n"
   ]
  },
  {
   "cell_type": "markdown",
   "metadata": {},
   "source": [
    "Whoops, what's going on here!? Well, notice from our previous preview of the response that we saw there were a hierarhcy within the response. Let's begin to investigate further to see what the problem is.\n",
    "\n",
    "First, recall that the overall strucutre of the response was a dictionary. Let's look at what the keys are:"
   ]
  },
  {
   "cell_type": "code",
   "execution_count": null,
   "metadata": {},
   "outputs": [],
   "source": [
    "response.keys()"
   ]
  },
  {
   "cell_type": "markdown",
   "metadata": {},
   "source": [
    "Consult the Yelp API and learn what value is carried in each key. \n",
    "\n",
    "#### Continue to preview these keys  further to get a little better acquainted. "
   ]
  },
  {
   "cell_type": "code",
   "execution_count": null,
   "metadata": {},
   "outputs": [],
   "source": [
    "print('BUSINESS:', response['businesses'][0])\n",
    "\n",
    "print('REGION:', response['region'])\n",
    "\n",
    "print('TOTAL :',response['total'])"
   ]
  },
  {
   "cell_type": "markdown",
   "metadata": {},
   "source": [
    "This makes more sense, so we are mainly interested in the `businesses` for our needs. \n",
    "\n",
    "### Print the names of businesses and included ratings "
   ]
  },
  {
   "cell_type": "code",
   "execution_count": null,
   "metadata": {},
   "outputs": [],
   "source": [
    "# Code here "
   ]
  },
  {
   "cell_type": "markdown",
   "metadata": {},
   "source": [
    "Great, now are are getting somewhere. It is a good idea at this stage to store this information as a dataframe for processing further. \n",
    "### Create a Pandas dataframe for contents of `businesses`\n",
    "* Check the number of records in the dataframe\n",
    "* Inspect the columns and head"
   ]
  },
  {
   "cell_type": "code",
   "execution_count": null,
   "metadata": {
    "scrolled": false
   },
   "outputs": [],
   "source": [
    "# Code here "
   ]
  },
  {
   "cell_type": "markdown",
   "metadata": {},
   "source": [
    "This is fantastic. We have successfully learned a new API , made requests to it, recieved and studied the response and stored the results in a dataframe and can now enjoy all the goodness of Pandas. Thats quite a bit of data engineering. \n",
    "\n",
    "### Visualize the location from search query\n",
    "The `region` key in the response carries the geographical information for the region searched.\n",
    "* Get the latitude / longitude information from `region`\n",
    "* Create a folium map with these coordinates. \n",
    "* Use a zoom start value = 13"
   ]
  },
  {
   "cell_type": "code",
   "execution_count": null,
   "metadata": {
    "scrolled": false
   },
   "outputs": [],
   "source": [
    "import folium\n",
    "\n",
    "# Code here"
   ]
  },
  {
   "cell_type": "markdown",
   "metadata": {},
   "source": [
    "Expected Output:\n",
    "![](london.png)"
   ]
  },
  {
   "cell_type": "markdown",
   "metadata": {},
   "source": [
    "Nice. We can now extract the coordinate information for each business and plot it on this map.\n",
    "\n",
    "### Get the business coordinates from dataframe for each business and plot on the map above"
   ]
  },
  {
   "cell_type": "code",
   "execution_count": null,
   "metadata": {
    "scrolled": false
   },
   "outputs": [],
   "source": [
    "# Code here "
   ]
  },
  {
   "cell_type": "markdown",
   "metadata": {},
   "source": [
    "Expected output:\n",
    "![](markers.png)"
   ]
  },
  {
   "cell_type": "markdown",
   "metadata": {},
   "source": [
    "Kool so we have everything in place but the visualization is still not very *Informative* so to speak. You can't tell which marker represents which business and also other information on business like rating, cost, links to user reviews etc. is still not visible. SO its geographical , but not exactly an Information System yet as you cant make any decisions on this information.  Here's as example of what it possible can look like\n",
    "![](out.png)\n"
   ]
  },
  {
   "cell_type": "markdown",
   "metadata": {},
   "source": [
    "For this you need to understand `folium.popup()` which let's you click on a marker to show a pop up window. This window acts more like an HTML page so you can easily format the information you present in the popup using following values:\n",
    "* The official business logo/image:  `image_url`\n",
    "* Name of the Business: `name`\n",
    "* Price (how expensive): `price`\n",
    "* Links to user reviews on Yelp: `url`\n",
    "\n",
    "Doing this in HTML is not required , so we recommend that you first try to put in basic information in the popups as just text. As a next stage , you can start changing into HTML code to make it visually more appealing.\n",
    "\n",
    "### Attempt to recreate the interactive visualization shown above.\n",
    "\n",
    "Here's a good resource with code examples on [how to create folium popups](https://github.com/python-visualization/folium/blob/master/examples/Popups.ipynb)"
   ]
  },
  {
   "cell_type": "code",
   "execution_count": null,
   "metadata": {},
   "outputs": [],
   "source": [
    "# Code here "
   ]
  },
  {
   "cell_type": "markdown",
   "metadata": {},
   "source": [
    "Wow . An Interactive Geographical information System backed by live data through API calling. \n",
    "\n",
    "<img src=\"star.jpg\" width=300>\n",
    "\n",
    "### More APIs to Checkout\n",
    "\n",
    "* Google Maps\n",
    "* Twitter\n",
    "* AWS\n",
    "* IBM's Watson\n",
    "* Yelp"
   ]
  },
  {
   "cell_type": "markdown",
   "metadata": {},
   "source": [
    "## Summary \n",
    "\n",
    "In this lab, we learned how to use the Yelp API with authentication, making calls, understanding the responses and creating interactive geographical visualizations in Folium. We encourage you to re-visit this lab again once you have studied some important machine learning algorithms to make predictions , find similarities, group/cluster businesses or classify them based on user criteria. "
   ]
  }
 ],
 "metadata": {
  "kernelspec": {
   "display_name": "Python 3",
   "language": "python",
   "name": "python3"
  },
  "language_info": {
   "codemirror_mode": {
    "name": "ipython",
    "version": 3
   },
   "file_extension": ".py",
   "mimetype": "text/x-python",
   "name": "python",
   "nbconvert_exporter": "python",
   "pygments_lexer": "ipython3",
   "version": "3.6.6"
  }
 },
 "nbformat": 4,
 "nbformat_minor": 2
}
